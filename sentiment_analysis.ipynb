{
  "nbformat": 4,
  "nbformat_minor": 0,
  "metadata": {
    "language_info": {
      "codemirror_mode": {
        "name": "ipython",
        "version": 3
      },
      "file_extension": ".py",
      "mimetype": "text/x-python",
      "name": "python",
      "nbconvert_exporter": "python",
      "pygments_lexer": "ipython3",
      "version": "3.8.6-final"
    },
    "orig_nbformat": 2,
    "kernelspec": {
      "name": "python3",
      "display_name": "Python 3",
      "language": "python"
    },
    "colab": {
      "name": "sentiment_analysis.ipynb",
      "provenance": [],
      "collapsed_sections": []
    },
    "accelerator": "TPU"
  },
  "cells": [
    {
      "cell_type": "markdown",
      "metadata": {
        "id": "anm8oVqrp9GM"
      },
      "source": [
        "Veuillez importer les fichiers du projet via le lien ci-dessous :\r\n",
        "\r\n",
        "https://drive.google.com/drive/folders/1WgmbgFeaDqc6EOHqdJPT4Fm3CN_ntv6v?usp=sharing"
      ]
    },
    {
      "cell_type": "code",
      "metadata": {
        "colab": {
          "base_uri": "https://localhost:8080/"
        },
        "id": "EIIfmBBDTkmq",
        "outputId": "31337662-f71d-4990-ebac-ef8928b24628"
      },
      "source": [
        "from google.colab import drive\r\n",
        "drive.mount('/content/gdrive/', force_remount=True)"
      ],
      "execution_count": 85,
      "outputs": [
        {
          "output_type": "stream",
          "text": [
            "Mounted at /content/gdrive/\n"
          ],
          "name": "stdout"
        }
      ]
    },
    {
      "cell_type": "markdown",
      "metadata": {
        "id": "Dxq6YJ0-e5KC"
      },
      "source": [
        "# Importation des modules nécessaires"
      ]
    },
    {
      "cell_type": "code",
      "metadata": {
        "id": "BuxQCUASTdCV"
      },
      "source": [
        "from time import time\n",
        "import numpy as np\n",
        "import pandas as pd\n",
        "import csv\n",
        "import tensorflow as tf\n",
        "import re, nltk, string\n",
        "from nltk.corpus import stopwords\n",
        "from nltk.tokenize import TweetTokenizer\n",
        "from gdrive.MyDrive.NLP_Sentiment_Analysis.randomTweets import *\n",
        "from gdrive.MyDrive.NLP_Sentiment_Analysis.utils import *\n",
        "import random\n",
        "\n",
        "from tensorflow.keras.preprocessing.sequence import pad_sequences\n",
        "from tensorflow.keras.layers import Embedding, LSTM, Dense, Dropout, Bidirectional\n",
        "from tensorflow.keras.preprocessing.text import Tokenizer\n",
        "from tensorflow.keras.models import Sequential\n",
        "from tensorflow.keras.optimizers import Adam\n",
        "from tensorflow.keras import regularizers\n",
        "\n",
        "from joblib import dump, load\n",
        "\n",
        "# Get Reviews\n",
        "import requests\n",
        "import json\n",
        "\n",
        "# Get Tweets\n",
        "import httplib2\n",
        "import requests\n",
        "import urllib3"
      ],
      "execution_count": 86,
      "outputs": []
    },
    {
      "cell_type": "markdown",
      "metadata": {
        "id": "JJ2HDBsfTdCW"
      },
      "source": [
        "# Préparation de la dataset"
      ]
    },
    {
      "cell_type": "code",
      "metadata": {
        "id": "kvmjH9fOTdCW"
      },
      "source": [
        "dataset = pd.read_csv('gdrive/MyDrive/NLP_Sentiment_Analysis/Dataset/training.1600000.processed.noemoticon.csv', \n",
        "                 encoding=\"ISO-8859-1\",\n",
        "                 usecols=[0, 5],             #to take only 2 useful column\n",
        "                 names=[\"label\",\"tweet\"])\n",
        "\n",
        "dataset['label'].replace([4, 0],[1, 0], inplace=True)"
      ],
      "execution_count": null,
      "outputs": []
    },
    {
      "cell_type": "code",
      "metadata": {
        "id": "EqFvfCTVTdCX"
      },
      "source": [
        "dataset['label'].value_counts()\n",
        "row_number = len(dataset['label']) + 1"
      ],
      "execution_count": null,
      "outputs": []
    },
    {
      "cell_type": "markdown",
      "metadata": {
        "id": "HMYfT1gwTdCY"
      },
      "source": [
        "## Affichage de la dataset"
      ]
    },
    {
      "cell_type": "code",
      "metadata": {
        "colab": {
          "base_uri": "https://localhost:8080/",
          "height": 283
        },
        "id": "RkNxkrqBTdCY",
        "outputId": "56d51bec-8af3-40fe-9f02-5fe6b264a6d3"
      },
      "source": [
        "dataset['label'].value_counts().plot(kind='barh')"
      ],
      "execution_count": null,
      "outputs": [
        {
          "output_type": "execute_result",
          "data": {
            "text/plain": [
              "<matplotlib.axes._subplots.AxesSubplot at 0x7f234124a860>"
            ]
          },
          "metadata": {
            "tags": []
          },
          "execution_count": 8
        },
        {
          "output_type": "display_data",
          "data": {
            "image/png": "[encoded data removed]",
            "text/plain": [
              "<Figure size 432x288 with 1 Axes>"
            ]
          },
          "metadata": {
            "tags": [],
            "needs_background": "light"
          }
        }
      ]
    },
    {
      "cell_type": "markdown",
      "metadata": {
        "id": "iJ28iXvmTdCa"
      },
      "source": [
        "## Observation d'un échantillon de la dataset"
      ]
    },
    {
      "cell_type": "code",
      "metadata": {
        "colab": {
          "base_uri": "https://localhost:8080/",
          "height": 363
        },
        "id": "PPEtI3jgTdCa",
        "outputId": "f506c4b6-08fc-477b-c2d8-4e16dbc33936"
      },
      "source": [
        "random.seed(42)\n",
        "dataset.iloc[random.sample(range(1, 1600000), 10), :]"
      ],
      "execution_count": null,
      "outputs": [
        {
          "output_type": "execute_result",
          "data": {
            "text/html": [
              "<div>\n",
              "<style scoped>\n",
              "    .dataframe tbody tr th:only-of-type {\n",
              "        vertical-align: middle;\n",
              "    }\n",
              "\n",
              "    .dataframe tbody tr th {\n",
              "        vertical-align: top;\n",
              "    }\n",
              "\n",
              "    .dataframe thead th {\n",
              "        text-align: right;\n",
              "    }\n",
              "</style>\n",
              "<table border=\"1\" class=\"dataframe\">\n",
              "  <thead>\n",
              "    <tr style=\"text-align: right;\">\n",
              "      <th></th>\n",
              "      <th>label</th>\n",
              "      <th>tweet</th>\n",
              "    </tr>\n",
              "  </thead>\n",
              "  <tbody>\n",
              "    <tr>\n",
              "      <th>1340976</th>\n",
              "      <td>1</td>\n",
              "      <td>http://twitpic.com/6lt78 - Chris: Here's a pic...</td>\n",
              "    </tr>\n",
              "    <tr>\n",
              "      <th>233479</th>\n",
              "      <td>0</td>\n",
              "      <td>is d only 1 who didnt get pancakes 4 breakfast...</td>\n",
              "    </tr>\n",
              "    <tr>\n",
              "      <th>52452</th>\n",
              "      <td>0</td>\n",
              "      <td>@dr_zu DAMN It...  I tried... not to be there.</td>\n",
              "    </tr>\n",
              "    <tr>\n",
              "      <th>1555145</th>\n",
              "      <td>1</td>\n",
              "      <td>@chynnaarielle Get 100 followers a day using w...</td>\n",
              "    </tr>\n",
              "    <tr>\n",
              "      <th>576779</th>\n",
              "      <td>0</td>\n",
              "      <td>I slept next to an open window and now i have ...</td>\n",
              "    </tr>\n",
              "    <tr>\n",
              "      <th>513576</th>\n",
              "      <td>0</td>\n",
              "      <td>OMG my test drive unlimited data has been corr...</td>\n",
              "    </tr>\n",
              "    <tr>\n",
              "      <th>468107</th>\n",
              "      <td>0</td>\n",
              "      <td>why are my parent's fighting? it's annoying.  ...</td>\n",
              "    </tr>\n",
              "    <tr>\n",
              "      <th>292633</th>\n",
              "      <td>0</td>\n",
              "      <td>devasting news about the French Airliner. My p...</td>\n",
              "    </tr>\n",
              "    <tr>\n",
              "      <th>1544493</th>\n",
              "      <td>1</td>\n",
              "      <td>This year's Valeta sucked! I hope we'll do it ...</td>\n",
              "    </tr>\n",
              "    <tr>\n",
              "      <th>214948</th>\n",
              "      <td>0</td>\n",
              "      <td>PSP Go confirmed http://bit.ly/Px2ne  Son....I...</td>\n",
              "    </tr>\n",
              "  </tbody>\n",
              "</table>\n",
              "</div>"
            ],
            "text/plain": [
              "         label                                              tweet\n",
              "1340976      1  http://twitpic.com/6lt78 - Chris: Here's a pic...\n",
              "233479       0  is d only 1 who didnt get pancakes 4 breakfast...\n",
              "52452        0     @dr_zu DAMN It...  I tried... not to be there.\n",
              "1555145      1  @chynnaarielle Get 100 followers a day using w...\n",
              "576779       0  I slept next to an open window and now i have ...\n",
              "513576       0  OMG my test drive unlimited data has been corr...\n",
              "468107       0  why are my parent's fighting? it's annoying.  ...\n",
              "292633       0  devasting news about the French Airliner. My p...\n",
              "1544493      1  This year's Valeta sucked! I hope we'll do it ...\n",
              "214948       0  PSP Go confirmed http://bit.ly/Px2ne  Son....I..."
            ]
          },
          "metadata": {
            "tags": []
          },
          "execution_count": 8
        }
      ]
    },
    {
      "cell_type": "markdown",
      "metadata": {
        "id": "trgk3vRaixsh"
      },
      "source": [
        "On observe que les tweets peuvent contenir des mentions, des urls ou autres qui ne sont pas utiles à l'analyse de sentiment. Nous allons donc nettoyer les tweets."
      ]
    },
    {
      "cell_type": "markdown",
      "metadata": {
        "id": "1EoN36FVTdCb"
      },
      "source": [
        "## Nettoyage la dataset\r\n",
        "\r\n",
        "Nous utiliserons la fonction clean trouvée sur Kaggle pour nettoyer les tweets.\r\n",
        "Les contractions seront séparées, les charactères spéciaux seront supprimés, ainsi que les URLs, les mentions, les mots trops courts, et les stopwords. \r\n",
        "\r\n",
        "Les tweets seront aussi transformés en tokens grâce à la librairie ```nltk```."
      ]
    },
    {
      "cell_type": "code",
      "metadata": {
        "colab": {
          "base_uri": "https://localhost:8080/"
        },
        "id": "s6S1y9zTTdCc",
        "outputId": "e752bd10-f72d-4bd9-8823-5648709eca49"
      },
      "source": [
        "nltk.download('stopwords')\n",
        "\n",
        "tokenizer = TweetTokenizer(strip_handles=True)\n",
        "stop_words = set(stopwords.words('english'))\n",
        "corpus = []"
      ],
      "execution_count": null,
      "outputs": [
        {
          "output_type": "stream",
          "text": [
            "[nltk_data] Downloading package stopwords to /root/nltk_data...\n",
            "[nltk_data]   Unzipping corpora/stopwords.zip.\n"
          ],
          "name": "stdout"
        }
      ]
    },
    {
      "cell_type": "code",
      "metadata": {
        "colab": {
          "base_uri": "https://localhost:8080/"
        },
        "id": "DrTGZo8PTdCc",
        "outputId": "4e839463-7e61-4f23-efef-6f9fb38345b8"
      },
      "source": [
        "dataset['tweet']"
      ],
      "execution_count": null,
      "outputs": [
        {
          "output_type": "execute_result",
          "data": {
            "text/plain": [
              "0          @switchfoot http://twitpic.com/2y1zl - Awww, t...\n",
              "1          is upset that he can't update his Facebook by ...\n",
              "2          @Kenichan I dived many times for the ball. Man...\n",
              "3            my whole body feels itchy and like its on fire \n",
              "4          @nationwideclass no, it's not behaving at all....\n",
              "                                 ...                        \n",
              "1599995    Just woke up. Having no school is the best fee...\n",
              "1599996    TheWDB.com - Very cool to hear old Walt interv...\n",
              "1599997    Are you ready for your MoJo Makeover? Ask me f...\n",
              "1599998    Happy 38th Birthday to my boo of alll time!!! ...\n",
              "1599999    happy #charitytuesday @theNSPCC @SparksCharity...\n",
              "Name: tweet, Length: 1600000, dtype: object"
            ]
          },
          "metadata": {
            "tags": []
          },
          "execution_count": 11
        }
      ]
    },
    {
      "cell_type": "code",
      "metadata": {
        "tags": [],
        "colab": {
          "base_uri": "https://localhost:8080/"
        },
        "id": "IVs2bwEvTdCc",
        "outputId": "28643477-3111-4ed1-9e77-2d65bd201899"
      },
      "source": [
        "i = 0\n",
        "def increment():\n",
        "    global i\n",
        "    i += 1\n",
        "def cleanerCall(s):\n",
        "    increment()\n",
        "    if i % 500 == 0:\n",
        "      printProgressBar(i, row_number * 2)\n",
        "    return clean(s, corpus, tokenizer, stop_words) # Function from kaggle in utils.py\n",
        "def abbrevCall(s):\n",
        "    increment()\n",
        "    if i % 500 == 0:\n",
        "      printProgressBar(i, row_number * 2)\n",
        "    return convert_abbrev_in_text(s) # Function from kaggle in utils.py\n",
        "\n",
        "dataset['tweet']=dataset['tweet'].apply(lambda s : cleanerCall(s))\n",
        "dataset['tweet']=dataset['tweet'].apply(lambda s : abbrevCall(s))\n",
        "\n",
        "del increment\n",
        "del cleanerCall\n",
        "del abbrevCall\n",
        "del i"
      ],
      "execution_count": null,
      "outputs": [
        {
          "output_type": "stream",
          "text": [
            "100.00% |███████████████████████████████████████████████████████████████████████████████████████████████████░|"
          ],
          "name": "stdout"
        }
      ]
    },
    {
      "cell_type": "code",
      "metadata": {
        "id": "kXa0gcTfTdCe"
      },
      "source": [
        "dataset = dataset.to_csv('gdrive/MyDrive/Colab_Notebooks/Dataset/cleaned_sentiment.csv', index=False)"
      ],
      "execution_count": null,
      "outputs": []
    },
    {
      "cell_type": "markdown",
      "metadata": {
        "id": "Zi528PRjZfzS"
      },
      "source": [
        "# Dataset nettoyée"
      ]
    },
    {
      "cell_type": "code",
      "metadata": {
        "id": "IsHwo9FlTdCe"
      },
      "source": [
        "# Read the cleaned dataset\r\n",
        "dataset = pd.read_csv('gdrive/MyDrive/NLP_Sentiment_Analysis/Dataset/cleaned_sentiment.csv')"
      ],
      "execution_count": null,
      "outputs": []
    },
    {
      "cell_type": "markdown",
      "metadata": {
        "id": "49Wirq8LkFD1"
      },
      "source": [
        "## Observation du même échantillon de la dataset"
      ]
    },
    {
      "cell_type": "code",
      "metadata": {
        "colab": {
          "base_uri": "https://localhost:8080/",
          "height": 363
        },
        "id": "VL2rM9gBtyPp",
        "outputId": "371696b3-26b9-49e7-bec1-2408518b7f6b"
      },
      "source": [
        "random.seed(42)\r\n",
        "dataset.iloc[random.sample(range(1, 1600000), 10), :]"
      ],
      "execution_count": null,
      "outputs": [
        {
          "output_type": "execute_result",
          "data": {
            "text/html": [
              "<div>\n",
              "<style scoped>\n",
              "    .dataframe tbody tr th:only-of-type {\n",
              "        vertical-align: middle;\n",
              "    }\n",
              "\n",
              "    .dataframe tbody tr th {\n",
              "        vertical-align: top;\n",
              "    }\n",
              "\n",
              "    .dataframe thead th {\n",
              "        text-align: right;\n",
              "    }\n",
              "</style>\n",
              "<table border=\"1\" class=\"dataframe\">\n",
              "  <thead>\n",
              "    <tr style=\"text-align: right;\">\n",
              "      <th></th>\n",
              "      <th>label</th>\n",
              "      <th>tweet</th>\n",
              "    </tr>\n",
              "  </thead>\n",
              "  <tbody>\n",
              "    <tr>\n",
              "      <th>1340976</th>\n",
              "      <td>1</td>\n",
              "      <td>chris here pic might missing home</td>\n",
              "    </tr>\n",
              "    <tr>\n",
              "      <th>233479</th>\n",
              "      <td>0</td>\n",
              "      <td>didnt get pancakes breakfast coz woke like sup...</td>\n",
              "    </tr>\n",
              "    <tr>\n",
              "      <th>52452</th>\n",
              "      <td>0</td>\n",
              "      <td>damn it i tried</td>\n",
              "    </tr>\n",
              "    <tr>\n",
              "      <th>1555145</th>\n",
              "      <td>1</td>\n",
              "      <td>get followers day using wwwtweeterfollowcom on...</td>\n",
              "    </tr>\n",
              "    <tr>\n",
              "      <th>576779</th>\n",
              "      <td>0</td>\n",
              "      <td>i slept next open window really bad cold sore ...</td>\n",
              "    </tr>\n",
              "    <tr>\n",
              "      <th>513576</th>\n",
              "      <td>0</td>\n",
              "      <td>oh my god test drive unlimited data corrupted ...</td>\n",
              "    </tr>\n",
              "    <tr>\n",
              "      <th>468107</th>\n",
              "      <td>0</td>\n",
              "      <td>parents fighting annoying miss noise to be honest</td>\n",
              "    </tr>\n",
              "    <tr>\n",
              "      <th>292633</th>\n",
              "      <td>0</td>\n",
              "      <td>devasting news french airliner my prayers go f...</td>\n",
              "    </tr>\n",
              "    <tr>\n",
              "      <th>1544493</th>\n",
              "      <td>1</td>\n",
              "      <td>this years valeta sucked ! i hope better !</td>\n",
              "    </tr>\n",
              "    <tr>\n",
              "      <th>214948</th>\n",
              "      <td>0</td>\n",
              "      <td>psp go confirmed soni am dissapoint awful hard...</td>\n",
              "    </tr>\n",
              "  </tbody>\n",
              "</table>\n",
              "</div>"
            ],
            "text/plain": [
              "         label                                              tweet\n",
              "1340976      1                  chris here pic might missing home\n",
              "233479       0  didnt get pancakes breakfast coz woke like sup...\n",
              "52452        0                                    damn it i tried\n",
              "1555145      1  get followers day using wwwtweeterfollowcom on...\n",
              "576779       0  i slept next open window really bad cold sore ...\n",
              "513576       0  oh my god test drive unlimited data corrupted ...\n",
              "468107       0  parents fighting annoying miss noise to be honest\n",
              "292633       0  devasting news french airliner my prayers go f...\n",
              "1544493      1         this years valeta sucked ! i hope better !\n",
              "214948       0  psp go confirmed soni am dissapoint awful hard..."
            ]
          },
          "metadata": {
            "tags": []
          },
          "execution_count": 5
        }
      ]
    },
    {
      "cell_type": "markdown",
      "metadata": {
        "id": "yBfUbrPblMfV"
      },
      "source": [
        "## Préparation de l'entraînement"
      ]
    },
    {
      "cell_type": "code",
      "metadata": {
        "colab": {
          "base_uri": "https://localhost:8080/"
        },
        "id": "93ZR1QDZlLcg",
        "outputId": "132c8a2e-2933-4fdc-c7ab-27d3a32974d1"
      },
      "source": [
        "try:\r\n",
        "    tpu = tf.distribute.cluster_resolver.TPUClusterResolver()\r\n",
        "    print('Device:', tpu.master())\r\n",
        "    tf.config.experimental_connect_to_cluster(tpu)\r\n",
        "    tf.tpu.experimental.initialize_tpu_system(tpu)\r\n",
        "    strategy = tf.distribute.experimental.TPUStrategy(tpu)\r\n",
        "except:\r\n",
        "    strategy = tf.distribute.get_strategy()\r\n",
        "print('Number of replicas:', strategy.num_replicas_in_sync)\r\n",
        "\r\n",
        "BATCH_SIZE = 16 * strategy.num_replicas_in_sync"
      ],
      "execution_count": null,
      "outputs": [
        {
          "output_type": "stream",
          "text": [
            "Device: grpc://10.103.20.98:8470\n",
            "INFO:tensorflow:Initializing the TPU system: grpc://10.103.20.98:8470\n"
          ],
          "name": "stdout"
        },
        {
          "output_type": "stream",
          "text": [
            "INFO:tensorflow:Initializing the TPU system: grpc://10.103.20.98:8470\n"
          ],
          "name": "stderr"
        },
        {
          "output_type": "stream",
          "text": [
            "INFO:tensorflow:Clearing out eager caches\n"
          ],
          "name": "stdout"
        },
        {
          "output_type": "stream",
          "text": [
            "INFO:tensorflow:Clearing out eager caches\n"
          ],
          "name": "stderr"
        },
        {
          "output_type": "stream",
          "text": [
            "INFO:tensorflow:Finished initializing TPU system.\n"
          ],
          "name": "stdout"
        },
        {
          "output_type": "stream",
          "text": [
            "INFO:tensorflow:Finished initializing TPU system.\n",
            "WARNING:absl:`tf.distribute.experimental.TPUStrategy` is deprecated, please use  the non experimental symbol `tf.distribute.TPUStrategy` instead.\n"
          ],
          "name": "stderr"
        },
        {
          "output_type": "stream",
          "text": [
            "INFO:tensorflow:Found TPU system:\n"
          ],
          "name": "stdout"
        },
        {
          "output_type": "stream",
          "text": [
            "INFO:tensorflow:Found TPU system:\n"
          ],
          "name": "stderr"
        },
        {
          "output_type": "stream",
          "text": [
            "INFO:tensorflow:*** Num TPU Cores: 8\n"
          ],
          "name": "stdout"
        },
        {
          "output_type": "stream",
          "text": [
            "INFO:tensorflow:*** Num TPU Cores: 8\n"
          ],
          "name": "stderr"
        },
        {
          "output_type": "stream",
          "text": [
            "INFO:tensorflow:*** Num TPU Workers: 1\n"
          ],
          "name": "stdout"
        },
        {
          "output_type": "stream",
          "text": [
            "INFO:tensorflow:*** Num TPU Workers: 1\n"
          ],
          "name": "stderr"
        },
        {
          "output_type": "stream",
          "text": [
            "INFO:tensorflow:*** Num TPU Cores Per Worker: 8\n"
          ],
          "name": "stdout"
        },
        {
          "output_type": "stream",
          "text": [
            "INFO:tensorflow:*** Num TPU Cores Per Worker: 8\n"
          ],
          "name": "stderr"
        },
        {
          "output_type": "stream",
          "text": [
            "INFO:tensorflow:*** Available Device: _DeviceAttributes(/job:localhost/replica:0/task:0/device:CPU:0, CPU, 0, 0)\n"
          ],
          "name": "stdout"
        },
        {
          "output_type": "stream",
          "text": [
            "INFO:tensorflow:*** Available Device: _DeviceAttributes(/job:localhost/replica:0/task:0/device:CPU:0, CPU, 0, 0)\n"
          ],
          "name": "stderr"
        },
        {
          "output_type": "stream",
          "text": [
            "INFO:tensorflow:*** Available Device: _DeviceAttributes(/job:worker/replica:0/task:0/device:CPU:0, CPU, 0, 0)\n"
          ],
          "name": "stdout"
        },
        {
          "output_type": "stream",
          "text": [
            "INFO:tensorflow:*** Available Device: _DeviceAttributes(/job:worker/replica:0/task:0/device:CPU:0, CPU, 0, 0)\n"
          ],
          "name": "stderr"
        },
        {
          "output_type": "stream",
          "text": [
            "INFO:tensorflow:*** Available Device: _DeviceAttributes(/job:worker/replica:0/task:0/device:TPU:0, TPU, 0, 0)\n"
          ],
          "name": "stdout"
        },
        {
          "output_type": "stream",
          "text": [
            "INFO:tensorflow:*** Available Device: _DeviceAttributes(/job:worker/replica:0/task:0/device:TPU:0, TPU, 0, 0)\n"
          ],
          "name": "stderr"
        },
        {
          "output_type": "stream",
          "text": [
            "INFO:tensorflow:*** Available Device: _DeviceAttributes(/job:worker/replica:0/task:0/device:TPU:1, TPU, 0, 0)\n"
          ],
          "name": "stdout"
        },
        {
          "output_type": "stream",
          "text": [
            "INFO:tensorflow:*** Available Device: _DeviceAttributes(/job:worker/replica:0/task:0/device:TPU:1, TPU, 0, 0)\n"
          ],
          "name": "stderr"
        },
        {
          "output_type": "stream",
          "text": [
            "INFO:tensorflow:*** Available Device: _DeviceAttributes(/job:worker/replica:0/task:0/device:TPU:2, TPU, 0, 0)\n"
          ],
          "name": "stdout"
        },
        {
          "output_type": "stream",
          "text": [
            "INFO:tensorflow:*** Available Device: _DeviceAttributes(/job:worker/replica:0/task:0/device:TPU:2, TPU, 0, 0)\n"
          ],
          "name": "stderr"
        },
        {
          "output_type": "stream",
          "text": [
            "INFO:tensorflow:*** Available Device: _DeviceAttributes(/job:worker/replica:0/task:0/device:TPU:3, TPU, 0, 0)\n"
          ],
          "name": "stdout"
        },
        {
          "output_type": "stream",
          "text": [
            "INFO:tensorflow:*** Available Device: _DeviceAttributes(/job:worker/replica:0/task:0/device:TPU:3, TPU, 0, 0)\n"
          ],
          "name": "stderr"
        },
        {
          "output_type": "stream",
          "text": [
            "INFO:tensorflow:*** Available Device: _DeviceAttributes(/job:worker/replica:0/task:0/device:TPU:4, TPU, 0, 0)\n"
          ],
          "name": "stdout"
        },
        {
          "output_type": "stream",
          "text": [
            "INFO:tensorflow:*** Available Device: _DeviceAttributes(/job:worker/replica:0/task:0/device:TPU:4, TPU, 0, 0)\n"
          ],
          "name": "stderr"
        },
        {
          "output_type": "stream",
          "text": [
            "INFO:tensorflow:*** Available Device: _DeviceAttributes(/job:worker/replica:0/task:0/device:TPU:5, TPU, 0, 0)\n"
          ],
          "name": "stdout"
        },
        {
          "output_type": "stream",
          "text": [
            "INFO:tensorflow:*** Available Device: _DeviceAttributes(/job:worker/replica:0/task:0/device:TPU:5, TPU, 0, 0)\n"
          ],
          "name": "stderr"
        },
        {
          "output_type": "stream",
          "text": [
            "INFO:tensorflow:*** Available Device: _DeviceAttributes(/job:worker/replica:0/task:0/device:TPU:6, TPU, 0, 0)\n"
          ],
          "name": "stdout"
        },
        {
          "output_type": "stream",
          "text": [
            "INFO:tensorflow:*** Available Device: _DeviceAttributes(/job:worker/replica:0/task:0/device:TPU:6, TPU, 0, 0)\n"
          ],
          "name": "stderr"
        },
        {
          "output_type": "stream",
          "text": [
            "INFO:tensorflow:*** Available Device: _DeviceAttributes(/job:worker/replica:0/task:0/device:TPU:7, TPU, 0, 0)\n"
          ],
          "name": "stdout"
        },
        {
          "output_type": "stream",
          "text": [
            "INFO:tensorflow:*** Available Device: _DeviceAttributes(/job:worker/replica:0/task:0/device:TPU:7, TPU, 0, 0)\n"
          ],
          "name": "stderr"
        },
        {
          "output_type": "stream",
          "text": [
            "INFO:tensorflow:*** Available Device: _DeviceAttributes(/job:worker/replica:0/task:0/device:TPU_SYSTEM:0, TPU_SYSTEM, 0, 0)\n"
          ],
          "name": "stdout"
        },
        {
          "output_type": "stream",
          "text": [
            "INFO:tensorflow:*** Available Device: _DeviceAttributes(/job:worker/replica:0/task:0/device:TPU_SYSTEM:0, TPU_SYSTEM, 0, 0)\n"
          ],
          "name": "stderr"
        },
        {
          "output_type": "stream",
          "text": [
            "INFO:tensorflow:*** Available Device: _DeviceAttributes(/job:worker/replica:0/task:0/device:XLA_CPU:0, XLA_CPU, 0, 0)\n"
          ],
          "name": "stdout"
        },
        {
          "output_type": "stream",
          "text": [
            "INFO:tensorflow:*** Available Device: _DeviceAttributes(/job:worker/replica:0/task:0/device:XLA_CPU:0, XLA_CPU, 0, 0)\n"
          ],
          "name": "stderr"
        },
        {
          "output_type": "stream",
          "text": [
            "Number of replicas: 8\n"
          ],
          "name": "stdout"
        }
      ]
    },
    {
      "cell_type": "code",
      "metadata": {
        "id": "-uo4kvQ5tzXx"
      },
      "source": [
        "# Create tuples (tweet, label)\r\n",
        "corpus = list(zip(dataset['tweet'].values, dataset['label'].values))\r\n",
        "\r\n",
        "embedding_dim = 100    # glove6b100\r\n",
        "max_length = 20        # max lenght of a tweet\r\n",
        "trunc_type='post'      # it will cut the tweet if it is longer than 20\r\n",
        "padding_type='post'    # it will add zeros at the end the tweets if is smaller than 20\r\n",
        "oov_tok = \"<OOV>\"      # for unseen words (out of vocabulary)\r\n",
        "training_size=len(corpus)\r\n",
        "test_portion=.025"
      ],
      "execution_count": null,
      "outputs": []
    },
    {
      "cell_type": "code",
      "metadata": {
        "colab": {
          "base_uri": "https://localhost:8080/"
        },
        "id": "Gj6cGYchvs3q",
        "outputId": "a012b68a-361c-48cb-fe23-01674a85d36e"
      },
      "source": [
        "print(len(corpus))\r\n",
        "corpus[:5]"
      ],
      "execution_count": null,
      "outputs": [
        {
          "output_type": "stream",
          "text": [
            "1600000\n"
          ],
          "name": "stdout"
        },
        {
          "output_type": "execute_result",
          "data": {
            "text/plain": [
              "[('awww bummer you shoulda got david carr third day d', 0),\n",
              " ('upset cannot update facebook texting might cry result school today also blah !',\n",
              "  0),\n",
              " ('i dived many times ball managed save the rest go bounds', 0),\n",
              " ('whole body feels itchy like fire', 0),\n",
              " ('behaving i mad i cannot see', 0)]"
            ]
          },
          "metadata": {
            "tags": []
          },
          "execution_count": 8
        }
      ]
    },
    {
      "cell_type": "markdown",
      "metadata": {
        "id": "avLBbe6hmSR-"
      },
      "source": [
        "## Répartition des données de test et d'entraînement"
      ]
    },
    {
      "cell_type": "code",
      "metadata": {
        "id": "mK4vNU-0vvZU"
      },
      "source": [
        "sentences=[]\r\n",
        "labels=[]\r\n",
        "\r\n",
        "# Shuffle the dataset\r\n",
        "random.shuffle(corpus)\r\n",
        "\r\n",
        "# Separate labels and tweets\r\n",
        "for x in range(training_size):\r\n",
        "    sentences.append(str(corpus[x][0]))\r\n",
        "    labels.append(corpus[x][1])\r\n",
        "\r\n",
        "# Create vocabulary based on the tweets\r\n",
        "tokenizer = Tokenizer()\r\n",
        "tokenizer.fit_on_texts(sentences)\r\n",
        "\r\n",
        "# Create the word index map\r\n",
        "word_index = tokenizer.word_index\r\n",
        "vocab_size=len(word_index)\r\n",
        "\r\n",
        "# Create a one hot vector\r\n",
        "sequences = tokenizer.texts_to_sequences(sentences)\r\n",
        "padded = pad_sequences(sequences, maxlen=max_length, padding=padding_type, truncating=trunc_type)\r\n",
        "\r\n",
        "# Create a training set\r\n",
        "split = int(test_portion * training_size)\r\n",
        "\r\n",
        "test_sequences = padded[0:split]\r\n",
        "training_sequences = padded[split:training_size]\r\n",
        "test_labels = labels[0:split]\r\n",
        "training_labels = labels[split:training_size]"
      ],
      "execution_count": null,
      "outputs": []
    },
    {
      "cell_type": "code",
      "metadata": {
        "colab": {
          "base_uri": "https://localhost:8080/"
        },
        "id": "yVVePQ5bxA93",
        "outputId": "2098e08f-c53c-4d36-8ad3-ac2aed06479d"
      },
      "source": [
        "print(vocab_size)\r\n",
        "print(word_index['ok'])\r\n",
        "\r\n",
        "# Save tokenizer for later\r\n",
        "dump(tokenizer, 'gdrive/MyDrive/NLP_Sentiment_Analysis/RNNTokenizer.joblib')"
      ],
      "execution_count": null,
      "outputs": [
        {
          "output_type": "stream",
          "text": [
            "417140\n",
            "113\n"
          ],
          "name": "stdout"
        },
        {
          "output_type": "execute_result",
          "data": {
            "text/plain": [
              "['gdrive/MyDrive/NLP_Sentiment_Analysis/RNNTokenizer.joblib']"
            ]
          },
          "metadata": {
            "tags": []
          },
          "execution_count": 38
        }
      ]
    },
    {
      "cell_type": "markdown",
      "metadata": {
        "id": "zcq1vHS9n1kY"
      },
      "source": [
        "## GLoVe : Création de la matrice de poids\r\n"
      ]
    },
    {
      "cell_type": "code",
      "metadata": {
        "id": "r2cNd10k3_wu"
      },
      "source": [
        "embeddings_index = {}\r\n",
        "\r\n",
        "with open('gdrive/MyDrive/NLP_Sentiment_Analysis/Dataset/glove.6B.100d.txt') as f:\r\n",
        "    for line in f:\r\n",
        "        values = line.split()\r\n",
        "        word = values[0]\r\n",
        "        coefs = np.asarray(values[1:], dtype='float32')\r\n",
        "        embeddings_index[word] = coefs\r\n",
        "\r\n",
        "embeddings_matrix = np.zeros((vocab_size+1, embedding_dim))\r\n",
        "for word, i in word_index.items():\r\n",
        "    embedding_vector = embeddings_index.get(word)\r\n",
        "    if embedding_vector is not None:\r\n",
        "        embeddings_matrix[i] = embedding_vector"
      ],
      "execution_count": null,
      "outputs": []
    },
    {
      "cell_type": "code",
      "metadata": {
        "colab": {
          "base_uri": "https://localhost:8080/"
        },
        "id": "BiXdWn_b4JU9",
        "outputId": "4b2ca7b6-dc91-48c7-ca78-ae7a8d9219c0"
      },
      "source": [
        "print(embeddings_matrix.shape)\r\n",
        "embeddings_index['love']"
      ],
      "execution_count": null,
      "outputs": [
        {
          "output_type": "stream",
          "text": [
            "(417141, 100)\n"
          ],
          "name": "stdout"
        },
        {
          "output_type": "execute_result",
          "data": {
            "text/plain": [
              "array([ 2.5975e-01,  5.5833e-01,  5.7986e-01, -2.1361e-01,  1.3084e-01,\n",
              "        9.4385e-01, -4.2817e-01, -3.7420e-01, -9.4499e-02, -4.3344e-01,\n",
              "       -2.0937e-01,  3.4702e-01,  8.2516e-02,  7.9735e-01,  1.6606e-01,\n",
              "       -2.6878e-01,  5.8830e-01,  6.7397e-01, -4.9965e-01,  1.4764e+00,\n",
              "        5.5261e-01,  2.5295e-02, -1.6068e-01, -1.3878e-01,  4.8686e-01,\n",
              "        1.1420e+00,  5.6195e-02, -7.3306e-01,  8.6932e-01, -3.5892e-01,\n",
              "       -5.1877e-01,  9.0402e-01,  4.9249e-01, -1.4915e-01,  4.8493e-02,\n",
              "        2.6096e-01,  1.1352e-01,  4.1275e-01,  5.3803e-01, -4.4950e-01,\n",
              "        8.5733e-02,  9.1184e-02,  5.0177e-03, -3.4645e-01, -1.1058e-01,\n",
              "       -2.2235e-01, -6.5290e-01, -5.1838e-02,  5.3791e-01, -8.1040e-01,\n",
              "       -1.8253e-01,  2.4194e-01,  5.4855e-01,  8.7731e-01,  2.2165e-01,\n",
              "       -2.7124e+00,  4.9405e-01,  4.4703e-01,  5.5882e-01,  2.6076e-01,\n",
              "        2.3760e-01,  1.0668e+00, -5.6971e-01, -6.4960e-01,  3.3511e-01,\n",
              "        3.4609e-01,  1.1033e+00,  8.5261e-02,  2.4847e-02, -4.5453e-01,\n",
              "        7.7012e-02,  2.1321e-01,  1.0444e-01,  6.7157e-02, -3.4261e-01,\n",
              "        8.5534e-01,  1.3361e-01, -4.3296e-01, -5.6726e-01, -2.1348e-01,\n",
              "       -3.3277e-01,  3.4351e-01,  3.2164e-01,  4.4527e-01, -1.3208e+00,\n",
              "       -1.3270e-01, -7.0820e-01, -4.8472e-01, -6.9396e-01, -2.6080e-01,\n",
              "       -4.7099e-01, -5.7492e-02,  9.3587e-02,  4.0006e-01, -4.3419e-01,\n",
              "       -2.7364e-01, -7.7017e-01, -8.4028e-01, -1.5620e-03,  6.2223e-01],\n",
              "      dtype=float32)"
            ]
          },
          "metadata": {
            "tags": []
          },
          "execution_count": 12
        }
      ]
    },
    {
      "cell_type": "markdown",
      "metadata": {
        "id": "y5fCiwV4pQ7V"
      },
      "source": [
        "## Création du réseau neuronal LSTM"
      ]
    },
    {
      "cell_type": "code",
      "metadata": {
        "colab": {
          "base_uri": "https://localhost:8080/"
        },
        "id": "uYK9OKOH4UqR",
        "outputId": "a2887e09-8ba2-41ae-bc04-af9f24ad4e54"
      },
      "source": [
        "with strategy.scope():    \r\n",
        "\r\n",
        "    model = tf.keras.Sequential([\r\n",
        "        tf.keras.layers.Embedding(vocab_size+1, embedding_dim, input_length=max_length, weights=[embeddings_matrix], trainable=False), # Couche d'entrée chargée avec les poids de GLoVe\r\n",
        "        tf.keras.layers.Dropout(0.5),\r\n",
        "        tf.keras.layers.Bidirectional(LSTM(units=64, return_sequences=True)),\r\n",
        "        tf.keras.layers.Bidirectional(LSTM(units=128)),\r\n",
        "        tf.keras.layers.Dense(64, activation='relu', kernel_regularizer=regularizers.l2(0.01)),\r\n",
        "        tf.keras.layers.Dense(1, activation='sigmoid')\r\n",
        "    ])\r\n",
        "    model.compile(loss='binary_crossentropy',optimizer='adam',metrics=['accuracy'])\r\n",
        "    model.summary()"
      ],
      "execution_count": null,
      "outputs": [
        {
          "output_type": "stream",
          "text": [
            "Model: \"sequential\"\n",
            "_________________________________________________________________\n",
            "Layer (type)                 Output Shape              Param #   \n",
            "=================================================================\n",
            "embedding (Embedding)        (None, 20, 100)           41714100  \n",
            "_________________________________________________________________\n",
            "dropout (Dropout)            (None, 20, 100)           0         \n",
            "_________________________________________________________________\n",
            "bidirectional (Bidirectional (None, 20, 128)           84480     \n",
            "_________________________________________________________________\n",
            "bidirectional_1 (Bidirection (None, 256)               263168    \n",
            "_________________________________________________________________\n",
            "dense (Dense)                (None, 64)                16448     \n",
            "_________________________________________________________________\n",
            "dense_1 (Dense)              (None, 1)                 65        \n",
            "=================================================================\n",
            "Total params: 42,078,261\n",
            "Trainable params: 364,161\n",
            "Non-trainable params: 41,714,100\n",
            "_________________________________________________________________\n"
          ],
          "name": "stdout"
        }
      ]
    },
    {
      "cell_type": "markdown",
      "metadata": {
        "id": "6sR9ya9vpYiV"
      },
      "source": [
        "## Entraînement et sauvegarde du modèle"
      ]
    },
    {
      "cell_type": "code",
      "metadata": {
        "id": "LzdP9j4XonC8"
      },
      "source": [
        "num_epochs = 10\r\n",
        "\r\n",
        "training_padded = np.array(training_sequences)\r\n",
        "training_labels = np.array(training_labels)\r\n",
        "testing_padded = np.array(test_sequences)\r\n",
        "testing_labels = np.array(test_labels)"
      ],
      "execution_count": null,
      "outputs": []
    },
    {
      "cell_type": "code",
      "metadata": {
        "colab": {
          "base_uri": "https://localhost:8080/"
        },
        "id": "dgOg_u1opfW3",
        "outputId": "5af86f2e-0b63-46f6-9fd8-c48fb65e0ae0"
      },
      "source": [
        "history = model.fit(training_padded, \r\n",
        "                  training_labels, \r\n",
        "                  epochs=num_epochs, \r\n",
        "                  validation_data=(testing_padded, testing_labels),\r\n",
        "                  batch_size = BATCH_SIZE,\r\n",
        "                  verbose=1)\r\n",
        "\r\n",
        "print(\"Training Complete\")"
      ],
      "execution_count": null,
      "outputs": [
        {
          "output_type": "stream",
          "text": [
            "Epoch 1/10\n",
            "12188/12188 [==============================] - 248s 20ms/step - loss: 0.5255 - accuracy: 0.7361 - val_loss: 0.4776 - val_accuracy: 0.7689\n",
            "Epoch 2/10\n",
            "12188/12188 [==============================] - 242s 20ms/step - loss: 0.5019 - accuracy: 0.7526 - val_loss: 0.4728 - val_accuracy: 0.7720\n",
            "Epoch 3/10\n",
            "12188/12188 [==============================] - 241s 20ms/step - loss: 0.4925 - accuracy: 0.7593 - val_loss: 0.4620 - val_accuracy: 0.7796\n",
            "Epoch 4/10\n",
            "12188/12188 [==============================] - 243s 20ms/step - loss: 0.4863 - accuracy: 0.7632 - val_loss: 0.4571 - val_accuracy: 0.7839\n",
            "Epoch 5/10\n",
            "12188/12188 [==============================] - 244s 20ms/step - loss: 0.4818 - accuracy: 0.7664 - val_loss: 0.4530 - val_accuracy: 0.7853\n",
            "Epoch 6/10\n",
            "12188/12188 [==============================] - 244s 20ms/step - loss: 0.4783 - accuracy: 0.7686 - val_loss: 0.4537 - val_accuracy: 0.7866\n",
            "Epoch 7/10\n",
            "12188/12188 [==============================] - 245s 20ms/step - loss: 0.4750 - accuracy: 0.7704 - val_loss: 0.4502 - val_accuracy: 0.7885\n",
            "Epoch 8/10\n",
            "12188/12188 [==============================] - 243s 20ms/step - loss: 0.4728 - accuracy: 0.7719 - val_loss: 0.4484 - val_accuracy: 0.7892\n",
            "Epoch 9/10\n",
            "12188/12188 [==============================] - 243s 20ms/step - loss: 0.4706 - accuracy: 0.7733 - val_loss: 0.4461 - val_accuracy: 0.7913\n",
            "Epoch 10/10\n",
            "12188/12188 [==============================] - 242s 20ms/step - loss: 0.4689 - accuracy: 0.7747 - val_loss: 0.4452 - val_accuracy: 0.7910\n",
            "Training Complete\n"
          ],
          "name": "stdout"
        }
      ]
    },
    {
      "cell_type": "code",
      "metadata": {
        "id": "qIfpVwRjpoeH"
      },
      "source": [
        "model.save('gdrive/MyDrive/NLP_Sentiment_Analysis/model.h5')"
      ],
      "execution_count": null,
      "outputs": []
    },
    {
      "cell_type": "markdown",
      "metadata": {
        "id": "MqJWljNeq7Nj"
      },
      "source": [
        "## Affichage de la progression du modèle"
      ]
    },
    {
      "cell_type": "code",
      "metadata": {
        "colab": {
          "base_uri": "https://localhost:8080/",
          "height": 609
        },
        "id": "zePCefqo5e17",
        "outputId": "712981a5-8ef1-4f00-e42b-cb21eaa92863"
      },
      "source": [
        "import matplotlib.pyplot as plt\r\n",
        "\r\n",
        "# Retrieve a list of list results on training and test data\r\n",
        "# sets for each training epoch\r\n",
        "acc=history.history['accuracy']\r\n",
        "val_acc=history.history['val_accuracy']\r\n",
        "loss=history.history['loss']\r\n",
        "val_loss=history.history['val_loss']\r\n",
        "\r\n",
        "epochs=range(len(acc)) # Get number of epochs\r\n",
        "\r\n",
        "# Plot training and validation accuracy per epoch\r\n",
        "plt.plot(epochs, acc, 'r')\r\n",
        "plt.plot(epochs, val_acc, 'b')\r\n",
        "plt.title('Accuracy')\r\n",
        "plt.xlabel(\"Epochs\")\r\n",
        "plt.ylabel(\"Accuracy\")\r\n",
        "plt.legend([\"Accuracy\", \"Validation Accuracy\"])\r\n",
        "\r\n",
        "plt.figure()\r\n",
        "\r\n",
        "# Plot training and validation loss per epoch\r\n",
        "plt.plot(epochs, loss, 'r')\r\n",
        "plt.plot(epochs, val_loss, 'b')\r\n",
        "plt.title('Loss')\r\n",
        "plt.xlabel(\"Epochs\")\r\n",
        "plt.ylabel(\"Loss\")\r\n",
        "plt.legend([\"Loss\", \"Validation Loss\"])\r\n",
        "\r\n",
        "plt.figure()"
      ],
      "execution_count": null,
      "outputs": [
        {
          "output_type": "execute_result",
          "data": {
            "text/plain": [
              "<Figure size 432x288 with 0 Axes>"
            ]
          },
          "metadata": {
            "tags": []
          },
          "execution_count": 41
        },
        {
          "output_type": "display_data",
          "data": {
            "image/png": "[encoded data removed]",
            "text/plain": [
              "<Figure size 432x288 with 1 Axes>"
            ]
          },
          "metadata": {
            "tags": [],
            "needs_background": "light"
          }
        },
        {
          "output_type": "display_data",
          "data": {
            "image/png": "[encoded data removed]",
            "text/plain": [
              "<Figure size 432x288 with 1 Axes>"
            ]
          },
          "metadata": {
            "tags": [],
            "needs_background": "light"
          }
        },
        {
          "output_type": "display_data",
          "data": {
            "text/plain": [
              "<Figure size 432x288 with 0 Axes>"
            ]
          },
          "metadata": {
            "tags": []
          }
        }
      ]
    },
    {
      "cell_type": "markdown",
      "metadata": {
        "id": "FqP8eSJ_wFq4"
      },
      "source": [
        "# Récupération de reviews et de tweets"
      ]
    },
    {
      "cell_type": "code",
      "metadata": {
        "id": "XLgdGwTewLcU"
      },
      "source": [
        "def get_random_review():\r\n",
        "  # Your Yelp API key here : \r\n",
        "  #@markdown Nécessite une clé d'API Yelp :\r\n",
        "  api_key = \"5uN5IS-gawRMFbmgNZCypm5Rh4NXxHn1VZ5fjhBBH0TnXbjxTadU9obeNL2A-LpLk-jxCQ2tNvIWBW-LS2Z7LR4SsVAPe_GRPNG--6arVVbTVzGfJMujdN0eWrE_YHYx\" #@param {type:\"string\"}\r\n",
        "  headers = {'Authorization': 'Bearer %s' % api_key}\r\n",
        "\r\n",
        "  url = 'https://api.yelp.com/v3/businesses/search'\r\n",
        "  params = {'term':'bookstore','location':'New York City'}\r\n",
        "\r\n",
        "  req = requests.get(url, params=params, headers=headers)\r\n",
        "\r\n",
        "  parsed = json.loads(req.text)\r\n",
        "  \r\n",
        "  businesses = parsed[\"businesses\"]\r\n",
        "  \r\n",
        "  business = random.choice(businesses)\r\n",
        "\r\n",
        "  id = business[\"id\"]\r\n",
        "\r\n",
        "  url=\"https://api.yelp.com/v3/businesses/\" + id + \"/reviews\"\r\n",
        "\r\n",
        "  req = requests.get(url, headers=headers)\r\n",
        "\r\n",
        "  parsed = json.loads(req.text)\r\n",
        "\r\n",
        "  reviews = parsed[\"reviews\"]\r\n",
        "\r\n",
        "  return random.choice(reviews)[\"text\"]"
      ],
      "execution_count": 87,
      "outputs": []
    },
    {
      "cell_type": "code",
      "metadata": {
        "colab": {
          "base_uri": "https://localhost:8080/"
        },
        "id": "oiw8I9NYwSXt",
        "outputId": "6f0cdf04-cce5-45f2-d19e-aec4e0e2b027"
      },
      "source": [
        "print(get_random_review())"
      ],
      "execution_count": 88,
      "outputs": [
        {
          "output_type": "stream",
          "text": [
            "Great bookstore near BMCC campus. Of course you're not allowed to sit down or enjoy a cup of coffee like in the past. I used to kill time between classes as...\n"
          ],
          "name": "stdout"
        }
      ]
    },
    {
      "cell_type": "code",
      "metadata": {
        "id": "DGWqlkEdwTrl"
      },
      "source": [
        "#@markdown Nécessite une clé d'API Twitter : \r\n",
        "API_KEY = \"\" #@param {type:\"string\"}\r\n",
        "SECRET = \"\" #@param {type:\"string\"}\r\n",
        "# Your Twitter API credentials here : \r\n",
        "def get_random_tweet(target :string):\r\n",
        "  credentials = {\r\n",
        "          'consumer_key': str(API_KEY),\r\n",
        "          'consumer_secret': str(SECRET)\r\n",
        "      }\r\n",
        "  return rt_get_random_tweet(target, credentials)['text']"
      ],
      "execution_count": null,
      "outputs": []
    },
    {
      "cell_type": "code",
      "metadata": {
        "id": "R3WFGTgrwT_T"
      },
      "source": [
        "print(get_random_tweet(\"cat\"))"
      ],
      "execution_count": null,
      "outputs": []
    },
    {
      "cell_type": "markdown",
      "metadata": {
        "id": "oi9la6GIsMyP"
      },
      "source": [
        "# Pipeline complète"
      ]
    },
    {
      "cell_type": "markdown",
      "metadata": {
        "id": "0dWFzJje_SaU"
      },
      "source": [
        "## Chargement du modèle"
      ]
    },
    {
      "cell_type": "code",
      "metadata": {
        "id": "t4d0Cn9vP0Gh"
      },
      "source": [
        "from tensorflow import keras\r\n",
        "trained_model = tf.keras.Sequential([\r\n",
        "        tf.keras.layers.Embedding(vocab_size+1, embedding_dim, input_length=max_length, weights=[embeddings_matrix], trainable=False), # Couche d'entrée chargée avec les poids de GLoVe\r\n",
        "        tf.keras.layers.Dropout(0.5),\r\n",
        "        tf.keras.layers.Bidirectional(LSTM(units=64, return_sequences=True)),\r\n",
        "        tf.keras.layers.Bidirectional(LSTM(units=128)),\r\n",
        "        tf.keras.layers.Dense(64, activation='relu', kernel_regularizer=regularizers.l2(0.01)),\r\n",
        "        tf.keras.layers.Dense(1, activation='sigmoid')\r\n",
        "    ])\r\n",
        "\r\n",
        "trained_model.load_weights('gdrive/MyDrive/NLP_Sentiment_Analysis/model.h5')\r\n",
        "rnn_tokenizer = load('gdrive/MyDrive/NLP_Sentiment_Analysis/RNNTokenizer.joblib')"
      ],
      "execution_count": 89,
      "outputs": []
    },
    {
      "cell_type": "code",
      "metadata": {
        "colab": {
          "base_uri": "https://localhost:8080/"
        },
        "id": "ugDhM7mJsYs9",
        "outputId": "8f1c162a-ac34-462a-f5a3-e729bac0977a"
      },
      "source": [
        "max_length = 20        # Taille maximale d'un tweet\r\n",
        "trunc_type='post'      # Tronque le tweet s'il est plus long que max_length\r\n",
        "padding_type='post'\r\n",
        "\r\n",
        "nltk.download('stopwords')\r\n",
        "\r\n",
        "tokenizer = TweetTokenizer(strip_handles=True)\r\n",
        "stop_words = set(stopwords.words('english'))\r\n",
        "corpus = []\r\n",
        "\r\n",
        "last = \"\"\r\n",
        "\r\n",
        "def preprocess_string(tweet):\r\n",
        "  tweet = clean(tweet, corpus, tokenizer, stop_words)\r\n",
        "  tweet = convert_abbrev_in_text(tweet)\r\n",
        "  return tweet\r\n",
        "\r\n",
        "# Those thresholds are arbitrary\r\n",
        "def interpret(value):\r\n",
        "  if value < 0.1:\r\n",
        "    return \"Hateful\"\r\n",
        "  elif value < 0.25:\r\n",
        "    return \"Very Negative\"\r\n",
        "  elif value < 0.4:\r\n",
        "    return \"Negative\"\r\n",
        "  elif value < 0.6:\r\n",
        "    return \"Neutral\"\r\n",
        "  elif value < 0.75:\r\n",
        "    return \"Positive\"\r\n",
        "  elif value < 0.9:\r\n",
        "    return \"Very Positive\"\r\n",
        "  else:\r\n",
        "    return \"Delightful\"\r\n",
        "\r\n",
        "def rnn_lstm_pipeline_from_tweets(subject :str):\r\n",
        "  raw_tweet = get_random_tweet(subject)\r\n",
        "  print(raw_tweet)\r\n",
        "  cleaned_tweet = preprocess_string(raw_tweet)\r\n",
        "  #print(\"Processed Tweet : \" + cleaned_tweet)\r\n",
        "  word_vector = rnn_tokenizer.texts_to_sequences([cleaned_tweet])\r\n",
        "  word_vector = pad_sequences([word_vector], maxlen=max_length, padding=padding_type, truncating=trunc_type)\r\n",
        "  res = trained_model.predict(word_vector.reshape(1,-1))[0][0]\r\n",
        "  return interpret(res), res\r\n",
        "\r\n",
        "def rnn_lstm_pipeline_from_yelp():\r\n",
        "  global last\r\n",
        "  raw_review = get_random_review()\r\n",
        "  last = raw_review\r\n",
        "  print(raw_review)\r\n",
        "  cleaned_review = preprocess_string(raw_review)\r\n",
        "  #print(\"Processed Review : \" + cleaned_review)\r\n",
        "  word_vector = rnn_tokenizer.texts_to_sequences([cleaned_review])\r\n",
        "  word_vector = pad_sequences(word_vector, maxlen=max_length, padding=padding_type, truncating=trunc_type)\r\n",
        "\r\n",
        "  res = trained_model.predict(word_vector.reshape(1,-1))[0][0]\r\n",
        "  return interpret(res), res"
      ],
      "execution_count": 116,
      "outputs": [
        {
          "output_type": "stream",
          "text": [
            "[nltk_data] Downloading package stopwords to /root/nltk_data...\n",
            "[nltk_data]   Package stopwords is already up-to-date!\n"
          ],
          "name": "stdout"
        }
      ]
    },
    {
      "cell_type": "code",
      "metadata": {
        "colab": {
          "base_uri": "https://localhost:8080/"
        },
        "id": "1vCLGfTsscxD",
        "outputId": "abf941e2-8399-4d44-e3f6-6ada35c03d74"
      },
      "source": [
        "for i in range(10):\r\n",
        "  print(rnn_lstm_pipeline_from_yelp())"
      ],
      "execution_count": 121,
      "outputs": [
        {
          "output_type": "stream",
          "text": [
            "4 dollar signs on Yelp? Really? Found the prices to be very reasonable and the selection pretty solid, especially for its size.\n",
            "('Positive', 0.6798574)\n",
            "Man, this place is woke. I don't mean that sarcastically. Here, you'll find a ton of books written by people from historically marginalized backgrounds. And...\n",
            "('Negative', 0.31043333)\n",
            "Browsed their website, found a wonderful selection of books to take care of Christmas gifts for some special people. I ordered and was extremely pleased...\n",
            "('Delightful', 0.97046757)\n",
            "Really love Bluestockings! It's a fantastic store that has such a great selection of items including books, art, zines, tote bags, stickers, and more! Their...\n",
            "('Delightful', 0.9740387)\n",
            "I love this book store. It is the perfect little neighborhood gem. They have a terrific selection of books in all categories -- from children's books on up....\n",
            "('Delightful', 0.96980846)\n",
            "Last November, the Mystery Writers of America gave a prestigious lifetime achievement award to a novelist named Linda Fairstein, who you may know as the...\n",
            "('Positive', 0.7392292)\n",
            "The store reopened today and the hours are 10-6 (seven days/week).  The following rules will apply until further notice:\n",
            "Everyone must wear a mask\n",
            "Practice...\n",
            "('Very Negative', 0.14931521)\n",
            "i came into this bookstore with my boyfriend and the owner / employee working immediately attacked me. as i walked in and was adjusting my mask, she said...\n",
            "('Very Negative', 0.198342)\n",
            "Zoey was very kind and helpful. She entertained my relentless questioning with a smile and genuine enthusiasm at her work. Also an amazing DJ that filled...\n",
            "('Delightful', 0.9731313)\n",
            "The City Point location is so aesthetically pleasing, especially with the floor-to-ceiling bookcase walls leading to the second floor. Aside from selling...\n",
            "('Neutral', 0.5059406)\n"
          ],
          "name": "stdout"
        }
      ]
    },
    {
      "cell_type": "code",
      "metadata": {
        "id": "dNomQxBGseEa"
      },
      "source": [
        "for i in range(10):\r\n",
        "  print(rnn_lstm_pipeline_from_tweets(\"bookstore\"))"
      ],
      "execution_count": null,
      "outputs": []
    },
    {
      "cell_type": "markdown",
      "metadata": {
        "id": "--ETOTKpsisl"
      },
      "source": [
        "# Conclusion"
      ]
    },
    {
      "cell_type": "markdown",
      "metadata": {
        "id": "LmQ4rCNgs0Q8"
      },
      "source": [
        "Notre modèle obtient des résultats assez satisfaisants.\r\n",
        "\r\n",
        "Nous pourrions entrainer notre modèle LSTM jusqu'à trouver un compromis entre les performances et l'overfitting. Nous pourrions également compléter l'étape de préprocessing en prenant en compte plus d'abbréviations par exemple.\r\n",
        "\r\n",
        "Il serait également intéressant d'essayer différents GloVe pour trouver celui qui conviendrait le mieux à ce projet.\r\n"
      ]
    }
  ]
}
